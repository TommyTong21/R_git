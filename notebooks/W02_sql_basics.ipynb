{
  "cells": [
    {
      "cell_type": "markdown",
      "metadata": {
        "id": "ObWaCZrRTeSx"
      },
      "source": [
        "# SQL Basics\n",
        "\n",
        "## Introduction\n",
        "\n",
        "This notebook is a short introduction to SQL. It is based on the [DuckDB](https://duckdb.org/) database engine.\n",
        "\n",
        "## Datasets\n",
        "\n",
        "The following datasets are used in this notebook. You don't need to download them, they can be accessed directly from the notebook.\n",
        "\n",
        "- [cities.csv](https://open.gishub.org/data/duckdb/cities.csv)\n",
        "- [countries.csv](https://open.gishub.org/data/duckdb/countries.csv)\n",
        "\n",
        "## References\n",
        "\n",
        "- [W3Schools SQL Tutorial](https://www.w3schools.com/sql)\n",
        "- [DuckDB SQL Introduction](https://duckdb.org/docs/sql/introduction.html)"
      ],
      "id": "ObWaCZrRTeSx"
    },
    {
      "cell_type": "markdown",
      "metadata": {
        "id": "FmvmMR0aTeSz"
      },
      "source": [
        "## Installation\n",
        "\n",
        "Uncomment the following cell to install the required packages."
      ],
      "id": "FmvmMR0aTeSz"
    },
    {
      "cell_type": "code",
      "execution_count": 1,
      "metadata": {
        "id": "ZRBG2eqcTeSz",
        "outputId": "e20930b2-1d96-427f-ca3b-5f291895c99e",
        "colab": {
          "base_uri": "https://localhost:8080/"
        }
      },
      "outputs": [
        {
          "output_type": "stream",
          "name": "stdout",
          "text": [
            "Requirement already satisfied: duckdb in /usr/local/lib/python3.11/dist-packages (1.1.3)\n",
            "Collecting duckdb-engine\n",
            "  Downloading duckdb_engine-0.15.0-py3-none-any.whl.metadata (7.9 kB)\n",
            "Collecting jupysql\n",
            "  Downloading jupysql-0.10.17-py3-none-any.whl.metadata (5.7 kB)\n",
            "Requirement already satisfied: packaging>=21 in /usr/local/lib/python3.11/dist-packages (from duckdb-engine) (24.2)\n",
            "Requirement already satisfied: sqlalchemy>=1.3.22 in /usr/local/lib/python3.11/dist-packages (from duckdb-engine) (2.0.37)\n",
            "Requirement already satisfied: prettytable>=3.12.0 in /usr/local/lib/python3.11/dist-packages (from jupysql) (3.14.0)\n",
            "Requirement already satisfied: sqlparse in /usr/local/lib/python3.11/dist-packages (from jupysql) (0.5.3)\n",
            "Requirement already satisfied: ipython-genutils>=0.1.0 in /usr/local/lib/python3.11/dist-packages (from jupysql) (0.2.0)\n",
            "Requirement already satisfied: jinja2 in /usr/local/lib/python3.11/dist-packages (from jupysql) (3.1.5)\n",
            "Requirement already satisfied: sqlglot>=11.3.7 in /usr/local/lib/python3.11/dist-packages (from jupysql) (25.6.1)\n",
            "Collecting jupysql-plugin>=0.4.2 (from jupysql)\n",
            "  Downloading jupysql_plugin-0.4.5-py3-none-any.whl.metadata (7.8 kB)\n",
            "Collecting ploomber-core>=0.2.7 (from jupysql)\n",
            "  Downloading ploomber_core-0.2.26-py3-none-any.whl.metadata (527 bytes)\n",
            "Requirement already satisfied: pyyaml in /usr/local/lib/python3.11/dist-packages (from ploomber-core>=0.2.7->jupysql) (6.0.2)\n",
            "Collecting posthog (from ploomber-core>=0.2.7->jupysql)\n",
            "  Downloading posthog-3.11.0-py2.py3-none-any.whl.metadata (2.9 kB)\n",
            "Requirement already satisfied: wcwidth in /usr/local/lib/python3.11/dist-packages (from prettytable>=3.12.0->jupysql) (0.2.13)\n",
            "Requirement already satisfied: greenlet!=0.4.17 in /usr/local/lib/python3.11/dist-packages (from sqlalchemy>=1.3.22->duckdb-engine) (3.1.1)\n",
            "Requirement already satisfied: typing-extensions>=4.6.0 in /usr/local/lib/python3.11/dist-packages (from sqlalchemy>=1.3.22->duckdb-engine) (4.12.2)\n",
            "Requirement already satisfied: MarkupSafe>=2.0 in /usr/local/lib/python3.11/dist-packages (from jinja2->jupysql) (3.0.2)\n",
            "Requirement already satisfied: requests<3.0,>=2.7 in /usr/local/lib/python3.11/dist-packages (from posthog->ploomber-core>=0.2.7->jupysql) (2.32.3)\n",
            "Requirement already satisfied: six>=1.5 in /usr/local/lib/python3.11/dist-packages (from posthog->ploomber-core>=0.2.7->jupysql) (1.17.0)\n",
            "Collecting monotonic>=1.5 (from posthog->ploomber-core>=0.2.7->jupysql)\n",
            "  Downloading monotonic-1.6-py2.py3-none-any.whl.metadata (1.5 kB)\n",
            "Collecting backoff>=1.10.0 (from posthog->ploomber-core>=0.2.7->jupysql)\n",
            "  Downloading backoff-2.2.1-py3-none-any.whl.metadata (14 kB)\n",
            "Requirement already satisfied: python-dateutil>2.1 in /usr/local/lib/python3.11/dist-packages (from posthog->ploomber-core>=0.2.7->jupysql) (2.8.2)\n",
            "Requirement already satisfied: charset-normalizer<4,>=2 in /usr/local/lib/python3.11/dist-packages (from requests<3.0,>=2.7->posthog->ploomber-core>=0.2.7->jupysql) (3.4.1)\n",
            "Requirement already satisfied: idna<4,>=2.5 in /usr/local/lib/python3.11/dist-packages (from requests<3.0,>=2.7->posthog->ploomber-core>=0.2.7->jupysql) (3.10)\n",
            "Requirement already satisfied: urllib3<3,>=1.21.1 in /usr/local/lib/python3.11/dist-packages (from requests<3.0,>=2.7->posthog->ploomber-core>=0.2.7->jupysql) (2.3.0)\n",
            "Requirement already satisfied: certifi>=2017.4.17 in /usr/local/lib/python3.11/dist-packages (from requests<3.0,>=2.7->posthog->ploomber-core>=0.2.7->jupysql) (2025.1.31)\n",
            "Downloading duckdb_engine-0.15.0-py3-none-any.whl (49 kB)\n",
            "\u001b[2K   \u001b[90m━━━━━━━━━━━━━━━━━━━━━━━━━━━━━━━━━━━━━━━━\u001b[0m \u001b[32m49.6/49.6 kB\u001b[0m \u001b[31m2.6 MB/s\u001b[0m eta \u001b[36m0:00:00\u001b[0m\n",
            "\u001b[?25hDownloading jupysql-0.10.17-py3-none-any.whl (95 kB)\n",
            "\u001b[2K   \u001b[90m━━━━━━━━━━━━━━━━━━━━━━━━━━━━━━━━━━━━━━━━\u001b[0m \u001b[32m95.2/95.2 kB\u001b[0m \u001b[31m4.5 MB/s\u001b[0m eta \u001b[36m0:00:00\u001b[0m\n",
            "\u001b[?25hDownloading jupysql_plugin-0.4.5-py3-none-any.whl (192 kB)\n",
            "\u001b[2K   \u001b[90m━━━━━━━━━━━━━━━━━━━━━━━━━━━━━━━━━━━━━━━━\u001b[0m \u001b[32m192.8/192.8 kB\u001b[0m \u001b[31m8.3 MB/s\u001b[0m eta \u001b[36m0:00:00\u001b[0m\n",
            "\u001b[?25hDownloading ploomber_core-0.2.26-py3-none-any.whl (22 kB)\n",
            "Downloading posthog-3.11.0-py2.py3-none-any.whl (72 kB)\n",
            "\u001b[2K   \u001b[90m━━━━━━━━━━━━━━━━━━━━━━━━━━━━━━━━━━━━━━━━\u001b[0m \u001b[32m72.0/72.0 kB\u001b[0m \u001b[31m1.6 MB/s\u001b[0m eta \u001b[36m0:00:00\u001b[0m\n",
            "\u001b[?25hDownloading backoff-2.2.1-py3-none-any.whl (15 kB)\n",
            "Downloading monotonic-1.6-py2.py3-none-any.whl (8.2 kB)\n",
            "Installing collected packages: monotonic, backoff, posthog, duckdb-engine, ploomber-core, jupysql-plugin, jupysql\n",
            "Successfully installed backoff-2.2.1 duckdb-engine-0.15.0 jupysql-0.10.17 jupysql-plugin-0.4.5 monotonic-1.6 ploomber-core-0.2.26 posthog-3.11.0\n"
          ]
        }
      ],
      "source": [
        "%pip install duckdb duckdb-engine jupysql"
      ],
      "id": "ZRBG2eqcTeSz"
    },
    {
      "cell_type": "markdown",
      "metadata": {
        "id": "ovFvdQlMTeS0"
      },
      "source": [
        "## Library Import and Configuration"
      ],
      "id": "ovFvdQlMTeS0"
    },
    {
      "cell_type": "code",
      "execution_count": 2,
      "metadata": {
        "id": "NcH8-XN-TeS0"
      },
      "outputs": [],
      "source": [
        "import duckdb\n",
        "import pandas as pd\n",
        "\n",
        "# Import jupysql Jupyter extension to create SQL cells\n",
        "%load_ext sql"
      ],
      "id": "NcH8-XN-TeS0"
    },
    {
      "cell_type": "markdown",
      "metadata": {
        "id": "zOsEstyZTeS0"
      },
      "source": [
        "Set configurations on jupysql to directly output data to Pandas and to simplify the output that is printed to the notebook."
      ],
      "id": "zOsEstyZTeS0"
    },
    {
      "cell_type": "code",
      "execution_count": null,
      "metadata": {
        "id": "t_qHl6RBTeS0"
      },
      "outputs": [],
      "source": [
        "%config SqlMagic.autopandas = True\n",
        "%config SqlMagic.feedback = False\n",
        "%config SqlMagic.displaycon = False"
      ],
      "id": "t_qHl6RBTeS0"
    },
    {
      "cell_type": "markdown",
      "metadata": {
        "id": "C-5OfossTeS0"
      },
      "source": [
        "## Connecting to DuckDB\n",
        "\n",
        "Connect jupysql to DuckDB using a SQLAlchemy-style connection string. You may either connect to an in memory DuckDB, or a file backed db."
      ],
      "id": "C-5OfossTeS0"
    },
    {
      "cell_type": "code",
      "execution_count": null,
      "metadata": {
        "id": "OHn_5u6uTeS0"
      },
      "outputs": [],
      "source": [
        "%sql duckdb:///:memory:\n",
        "# %sql duckdb:///path/to/file.db"
      ],
      "id": "OHn_5u6uTeS0"
    },
    {
      "cell_type": "markdown",
      "metadata": {
        "id": "N4RBjumpTeS0"
      },
      "source": [
        " If your SQL query is one line only, you may use the `%sql` magic command. For multi-line SQL query, you may use the `%%sql` magic command."
      ],
      "id": "N4RBjumpTeS0"
    },
    {
      "cell_type": "markdown",
      "metadata": {
        "id": "U9tR399STeS1"
      },
      "source": [
        "## Install extensions"
      ],
      "id": "U9tR399STeS1"
    },
    {
      "cell_type": "markdown",
      "metadata": {
        "id": "T6AVRg_gTeS1"
      },
      "source": [
        "\n",
        "Check available DuckDB extensions."
      ],
      "id": "T6AVRg_gTeS1"
    },
    {
      "cell_type": "code",
      "execution_count": null,
      "metadata": {
        "id": "OOjUUEm4TeS1",
        "outputId": "6b546b09-bcde-4471-e2ed-9846bf2fbf6c"
      },
      "outputs": [
        {
          "data": {
            "text/html": [
              "<div>\n",
              "<style scoped>\n",
              "    .dataframe tbody tr th:only-of-type {\n",
              "        vertical-align: middle;\n",
              "    }\n",
              "\n",
              "    .dataframe tbody tr th {\n",
              "        vertical-align: top;\n",
              "    }\n",
              "\n",
              "    .dataframe thead th {\n",
              "        text-align: right;\n",
              "    }\n",
              "</style>\n",
              "<table border=\"1\" class=\"dataframe\">\n",
              "  <thead>\n",
              "    <tr style=\"text-align: right;\">\n",
              "      <th></th>\n",
              "      <th>extension_name</th>\n",
              "      <th>loaded</th>\n",
              "      <th>installed</th>\n",
              "      <th>install_path</th>\n",
              "      <th>description</th>\n",
              "      <th>aliases</th>\n",
              "    </tr>\n",
              "  </thead>\n",
              "  <tbody>\n",
              "    <tr>\n",
              "      <th>0</th>\n",
              "      <td>arrow</td>\n",
              "      <td>False</td>\n",
              "      <td>False</td>\n",
              "      <td></td>\n",
              "      <td>A zero-copy data integration between Apache Ar...</td>\n",
              "      <td>[]</td>\n",
              "    </tr>\n",
              "    <tr>\n",
              "      <th>1</th>\n",
              "      <td>autocomplete</td>\n",
              "      <td>False</td>\n",
              "      <td>False</td>\n",
              "      <td></td>\n",
              "      <td>Adds support for autocomplete in the shell</td>\n",
              "      <td>[]</td>\n",
              "    </tr>\n",
              "    <tr>\n",
              "      <th>2</th>\n",
              "      <td>aws</td>\n",
              "      <td>False</td>\n",
              "      <td>False</td>\n",
              "      <td></td>\n",
              "      <td>Provides features that depend on the AWS SDK</td>\n",
              "      <td>[]</td>\n",
              "    </tr>\n",
              "    <tr>\n",
              "      <th>3</th>\n",
              "      <td>azure</td>\n",
              "      <td>False</td>\n",
              "      <td>False</td>\n",
              "      <td></td>\n",
              "      <td>Adds a filesystem abstraction for Azure blob s...</td>\n",
              "      <td>[]</td>\n",
              "    </tr>\n",
              "    <tr>\n",
              "      <th>4</th>\n",
              "      <td>excel</td>\n",
              "      <td>False</td>\n",
              "      <td>False</td>\n",
              "      <td></td>\n",
              "      <td>Adds support for Excel-like format strings</td>\n",
              "      <td>[]</td>\n",
              "    </tr>\n",
              "    <tr>\n",
              "      <th>5</th>\n",
              "      <td>fts</td>\n",
              "      <td>False</td>\n",
              "      <td>True</td>\n",
              "      <td>(BUILT-IN)</td>\n",
              "      <td>Adds support for Full-Text Search Indexes</td>\n",
              "      <td>[]</td>\n",
              "    </tr>\n",
              "    <tr>\n",
              "      <th>6</th>\n",
              "      <td>httpfs</td>\n",
              "      <td>False</td>\n",
              "      <td>True</td>\n",
              "      <td>/Users/ollieballinger/.duckdb/extensions/v0.9....</td>\n",
              "      <td>Adds support for reading and writing files ove...</td>\n",
              "      <td>[http, https, s3]</td>\n",
              "    </tr>\n",
              "    <tr>\n",
              "      <th>7</th>\n",
              "      <td>iceberg</td>\n",
              "      <td>False</td>\n",
              "      <td>False</td>\n",
              "      <td></td>\n",
              "      <td>Adds support for Apache Iceberg</td>\n",
              "      <td>[]</td>\n",
              "    </tr>\n",
              "    <tr>\n",
              "      <th>8</th>\n",
              "      <td>icu</td>\n",
              "      <td>True</td>\n",
              "      <td>True</td>\n",
              "      <td>(BUILT-IN)</td>\n",
              "      <td>Adds support for time zones and collations usi...</td>\n",
              "      <td>[]</td>\n",
              "    </tr>\n",
              "    <tr>\n",
              "      <th>9</th>\n",
              "      <td>inet</td>\n",
              "      <td>False</td>\n",
              "      <td>False</td>\n",
              "      <td></td>\n",
              "      <td>Adds support for IP-related data types and fun...</td>\n",
              "      <td>[]</td>\n",
              "    </tr>\n",
              "    <tr>\n",
              "      <th>10</th>\n",
              "      <td>jemalloc</td>\n",
              "      <td>False</td>\n",
              "      <td>False</td>\n",
              "      <td></td>\n",
              "      <td>Overwrites system allocator with JEMalloc</td>\n",
              "      <td>[]</td>\n",
              "    </tr>\n",
              "    <tr>\n",
              "      <th>11</th>\n",
              "      <td>json</td>\n",
              "      <td>True</td>\n",
              "      <td>True</td>\n",
              "      <td>(BUILT-IN)</td>\n",
              "      <td>Adds support for JSON operations</td>\n",
              "      <td>[]</td>\n",
              "    </tr>\n",
              "    <tr>\n",
              "      <th>12</th>\n",
              "      <td>motherduck</td>\n",
              "      <td>False</td>\n",
              "      <td>False</td>\n",
              "      <td></td>\n",
              "      <td>Enables motherduck integration with the system</td>\n",
              "      <td>[md]</td>\n",
              "    </tr>\n",
              "    <tr>\n",
              "      <th>13</th>\n",
              "      <td>mysql_scanner</td>\n",
              "      <td>False</td>\n",
              "      <td>False</td>\n",
              "      <td></td>\n",
              "      <td>Adds support for connecting to a MySQL database</td>\n",
              "      <td>[mysql]</td>\n",
              "    </tr>\n",
              "    <tr>\n",
              "      <th>14</th>\n",
              "      <td>parquet</td>\n",
              "      <td>True</td>\n",
              "      <td>True</td>\n",
              "      <td>(BUILT-IN)</td>\n",
              "      <td>Adds support for reading and writing parquet f...</td>\n",
              "      <td>[]</td>\n",
              "    </tr>\n",
              "    <tr>\n",
              "      <th>15</th>\n",
              "      <td>postgres_scanner</td>\n",
              "      <td>False</td>\n",
              "      <td>False</td>\n",
              "      <td></td>\n",
              "      <td>Adds support for connecting to a Postgres data...</td>\n",
              "      <td>[postgres]</td>\n",
              "    </tr>\n",
              "    <tr>\n",
              "      <th>16</th>\n",
              "      <td>spatial</td>\n",
              "      <td>False</td>\n",
              "      <td>True</td>\n",
              "      <td>/Users/ollieballinger/.duckdb/extensions/v0.9....</td>\n",
              "      <td>Geospatial extension that adds support for wor...</td>\n",
              "      <td>[]</td>\n",
              "    </tr>\n",
              "    <tr>\n",
              "      <th>17</th>\n",
              "      <td>sqlite_scanner</td>\n",
              "      <td>False</td>\n",
              "      <td>False</td>\n",
              "      <td></td>\n",
              "      <td>Adds support for reading and writing SQLite da...</td>\n",
              "      <td>[sqlite, sqlite3]</td>\n",
              "    </tr>\n",
              "    <tr>\n",
              "      <th>18</th>\n",
              "      <td>substrait</td>\n",
              "      <td>False</td>\n",
              "      <td>False</td>\n",
              "      <td></td>\n",
              "      <td>Adds support for the Substrait integration</td>\n",
              "      <td>[]</td>\n",
              "    </tr>\n",
              "    <tr>\n",
              "      <th>19</th>\n",
              "      <td>tpcds</td>\n",
              "      <td>True</td>\n",
              "      <td>True</td>\n",
              "      <td>(BUILT-IN)</td>\n",
              "      <td>Adds TPC-DS data generation and query support</td>\n",
              "      <td>[]</td>\n",
              "    </tr>\n",
              "    <tr>\n",
              "      <th>20</th>\n",
              "      <td>tpch</td>\n",
              "      <td>True</td>\n",
              "      <td>True</td>\n",
              "      <td>(BUILT-IN)</td>\n",
              "      <td>Adds TPC-H data generation and query support</td>\n",
              "      <td>[]</td>\n",
              "    </tr>\n",
              "    <tr>\n",
              "      <th>21</th>\n",
              "      <td>visualizer</td>\n",
              "      <td>False</td>\n",
              "      <td>False</td>\n",
              "      <td></td>\n",
              "      <td>Creates an HTML-based visualization of the que...</td>\n",
              "      <td>[]</td>\n",
              "    </tr>\n",
              "  </tbody>\n",
              "</table>\n",
              "</div>"
            ],
            "text/plain": [
              "      extension_name  loaded  installed  \\\n",
              "0              arrow   False      False   \n",
              "1       autocomplete   False      False   \n",
              "2                aws   False      False   \n",
              "3              azure   False      False   \n",
              "4              excel   False      False   \n",
              "5                fts   False       True   \n",
              "6             httpfs   False       True   \n",
              "7            iceberg   False      False   \n",
              "8                icu    True       True   \n",
              "9               inet   False      False   \n",
              "10          jemalloc   False      False   \n",
              "11              json    True       True   \n",
              "12        motherduck   False      False   \n",
              "13     mysql_scanner   False      False   \n",
              "14           parquet    True       True   \n",
              "15  postgres_scanner   False      False   \n",
              "16           spatial   False       True   \n",
              "17    sqlite_scanner   False      False   \n",
              "18         substrait   False      False   \n",
              "19             tpcds    True       True   \n",
              "20              tpch    True       True   \n",
              "21        visualizer   False      False   \n",
              "\n",
              "                                         install_path  \\\n",
              "0                                                       \n",
              "1                                                       \n",
              "2                                                       \n",
              "3                                                       \n",
              "4                                                       \n",
              "5                                          (BUILT-IN)   \n",
              "6   /Users/ollieballinger/.duckdb/extensions/v0.9....   \n",
              "7                                                       \n",
              "8                                          (BUILT-IN)   \n",
              "9                                                       \n",
              "10                                                      \n",
              "11                                         (BUILT-IN)   \n",
              "12                                                      \n",
              "13                                                      \n",
              "14                                         (BUILT-IN)   \n",
              "15                                                      \n",
              "16  /Users/ollieballinger/.duckdb/extensions/v0.9....   \n",
              "17                                                      \n",
              "18                                                      \n",
              "19                                         (BUILT-IN)   \n",
              "20                                         (BUILT-IN)   \n",
              "21                                                      \n",
              "\n",
              "                                          description            aliases  \n",
              "0   A zero-copy data integration between Apache Ar...                 []  \n",
              "1          Adds support for autocomplete in the shell                 []  \n",
              "2        Provides features that depend on the AWS SDK                 []  \n",
              "3   Adds a filesystem abstraction for Azure blob s...                 []  \n",
              "4          Adds support for Excel-like format strings                 []  \n",
              "5           Adds support for Full-Text Search Indexes                 []  \n",
              "6   Adds support for reading and writing files ove...  [http, https, s3]  \n",
              "7                     Adds support for Apache Iceberg                 []  \n",
              "8   Adds support for time zones and collations usi...                 []  \n",
              "9   Adds support for IP-related data types and fun...                 []  \n",
              "10          Overwrites system allocator with JEMalloc                 []  \n",
              "11                   Adds support for JSON operations                 []  \n",
              "12     Enables motherduck integration with the system               [md]  \n",
              "13    Adds support for connecting to a MySQL database            [mysql]  \n",
              "14  Adds support for reading and writing parquet f...                 []  \n",
              "15  Adds support for connecting to a Postgres data...         [postgres]  \n",
              "16  Geospatial extension that adds support for wor...                 []  \n",
              "17  Adds support for reading and writing SQLite da...  [sqlite, sqlite3]  \n",
              "18         Adds support for the Substrait integration                 []  \n",
              "19      Adds TPC-DS data generation and query support                 []  \n",
              "20       Adds TPC-H data generation and query support                 []  \n",
              "21  Creates an HTML-based visualization of the que...                 []  "
            ]
          },
          "execution_count": 6,
          "metadata": {},
          "output_type": "execute_result"
        }
      ],
      "source": [
        "%%sql\n",
        "\n",
        "SELECT * FROM duckdb_extensions();"
      ],
      "id": "OOjUUEm4TeS1"
    },
    {
      "cell_type": "markdown",
      "metadata": {
        "id": "QF-AYTguTeS1"
      },
      "source": [
        "DuckDB's [httpfs extension](https://duckdb.org/docs/extensions/httpfs) allows parquet and csv files to be queried remotely over http. This is useful for querying large datasets without having to download them locally. Let's install the extension and load the extension."
      ],
      "id": "QF-AYTguTeS1"
    },
    {
      "cell_type": "code",
      "execution_count": null,
      "metadata": {
        "id": "RzSozQcETeS1",
        "outputId": "683e4631-477a-4538-bb24-469d5944b03d"
      },
      "outputs": [
        {
          "data": {
            "text/html": [
              "<div>\n",
              "<style scoped>\n",
              "    .dataframe tbody tr th:only-of-type {\n",
              "        vertical-align: middle;\n",
              "    }\n",
              "\n",
              "    .dataframe tbody tr th {\n",
              "        vertical-align: top;\n",
              "    }\n",
              "\n",
              "    .dataframe thead th {\n",
              "        text-align: right;\n",
              "    }\n",
              "</style>\n",
              "<table border=\"1\" class=\"dataframe\">\n",
              "  <thead>\n",
              "    <tr style=\"text-align: right;\">\n",
              "      <th></th>\n",
              "      <th>Success</th>\n",
              "    </tr>\n",
              "  </thead>\n",
              "  <tbody>\n",
              "  </tbody>\n",
              "</table>\n",
              "</div>"
            ],
            "text/plain": [
              "Empty DataFrame\n",
              "Columns: [Success]\n",
              "Index: []"
            ]
          },
          "execution_count": 7,
          "metadata": {},
          "output_type": "execute_result"
        }
      ],
      "source": [
        "%%sql\n",
        "\n",
        "INSTALL httpfs;\n",
        "LOAD httpfs;"
      ],
      "id": "RzSozQcETeS1"
    },
    {
      "cell_type": "markdown",
      "metadata": {
        "id": "xA9T8dStTeS1"
      },
      "source": [
        "## Read CSV\n",
        "\n",
        "Use the `httpfs` extension to read the `cities.csv` file from the web."
      ],
      "id": "xA9T8dStTeS1"
    },
    {
      "cell_type": "code",
      "execution_count": null,
      "metadata": {
        "id": "jk3NYFiqTeS1",
        "outputId": "1dce6aaa-f94c-4b82-c6bb-ffc4592d3d95"
      },
      "outputs": [
        {
          "data": {
            "text/html": [
              "<div>\n",
              "<style scoped>\n",
              "    .dataframe tbody tr th:only-of-type {\n",
              "        vertical-align: middle;\n",
              "    }\n",
              "\n",
              "    .dataframe tbody tr th {\n",
              "        vertical-align: top;\n",
              "    }\n",
              "\n",
              "    .dataframe thead th {\n",
              "        text-align: right;\n",
              "    }\n",
              "</style>\n",
              "<table border=\"1\" class=\"dataframe\">\n",
              "  <thead>\n",
              "    <tr style=\"text-align: right;\">\n",
              "      <th></th>\n",
              "      <th>id</th>\n",
              "      <th>name</th>\n",
              "      <th>country</th>\n",
              "      <th>latitude</th>\n",
              "      <th>longitude</th>\n",
              "      <th>population</th>\n",
              "    </tr>\n",
              "  </thead>\n",
              "  <tbody>\n",
              "    <tr>\n",
              "      <th>0</th>\n",
              "      <td>1</td>\n",
              "      <td>Bombo</td>\n",
              "      <td>UGA</td>\n",
              "      <td>0.58330</td>\n",
              "      <td>32.53330</td>\n",
              "      <td>75000</td>\n",
              "    </tr>\n",
              "    <tr>\n",
              "      <th>1</th>\n",
              "      <td>2</td>\n",
              "      <td>Fort Portal</td>\n",
              "      <td>UGA</td>\n",
              "      <td>0.67100</td>\n",
              "      <td>30.27500</td>\n",
              "      <td>42670</td>\n",
              "    </tr>\n",
              "    <tr>\n",
              "      <th>2</th>\n",
              "      <td>3</td>\n",
              "      <td>Potenza</td>\n",
              "      <td>ITA</td>\n",
              "      <td>40.64200</td>\n",
              "      <td>15.79900</td>\n",
              "      <td>69060</td>\n",
              "    </tr>\n",
              "    <tr>\n",
              "      <th>3</th>\n",
              "      <td>4</td>\n",
              "      <td>Campobasso</td>\n",
              "      <td>ITA</td>\n",
              "      <td>41.56300</td>\n",
              "      <td>14.65600</td>\n",
              "      <td>50762</td>\n",
              "    </tr>\n",
              "    <tr>\n",
              "      <th>4</th>\n",
              "      <td>5</td>\n",
              "      <td>Aosta</td>\n",
              "      <td>ITA</td>\n",
              "      <td>45.73700</td>\n",
              "      <td>7.31500</td>\n",
              "      <td>34062</td>\n",
              "    </tr>\n",
              "    <tr>\n",
              "      <th>...</th>\n",
              "      <td>...</td>\n",
              "      <td>...</td>\n",
              "      <td>...</td>\n",
              "      <td>...</td>\n",
              "      <td>...</td>\n",
              "      <td>...</td>\n",
              "    </tr>\n",
              "    <tr>\n",
              "      <th>1244</th>\n",
              "      <td>1245</td>\n",
              "      <td>Rio de Janeiro</td>\n",
              "      <td>BRA</td>\n",
              "      <td>-22.92502</td>\n",
              "      <td>-43.22502</td>\n",
              "      <td>11748000</td>\n",
              "    </tr>\n",
              "    <tr>\n",
              "      <th>1245</th>\n",
              "      <td>1246</td>\n",
              "      <td>Sao Paulo</td>\n",
              "      <td>BRA</td>\n",
              "      <td>-23.55868</td>\n",
              "      <td>-46.62502</td>\n",
              "      <td>18845000</td>\n",
              "    </tr>\n",
              "    <tr>\n",
              "      <th>1246</th>\n",
              "      <td>1247</td>\n",
              "      <td>Sydney</td>\n",
              "      <td>AUS</td>\n",
              "      <td>-33.92001</td>\n",
              "      <td>151.18518</td>\n",
              "      <td>4630000</td>\n",
              "    </tr>\n",
              "    <tr>\n",
              "      <th>1247</th>\n",
              "      <td>1248</td>\n",
              "      <td>Singapore</td>\n",
              "      <td>SGP</td>\n",
              "      <td>1.29303</td>\n",
              "      <td>103.85582</td>\n",
              "      <td>5183700</td>\n",
              "    </tr>\n",
              "    <tr>\n",
              "      <th>1248</th>\n",
              "      <td>1249</td>\n",
              "      <td>Hong Kong</td>\n",
              "      <td>CHN</td>\n",
              "      <td>22.30498</td>\n",
              "      <td>114.18501</td>\n",
              "      <td>7206000</td>\n",
              "    </tr>\n",
              "  </tbody>\n",
              "</table>\n",
              "<p>1249 rows × 6 columns</p>\n",
              "</div>"
            ],
            "text/plain": [
              "        id            name country  latitude  longitude  population\n",
              "0        1           Bombo     UGA   0.58330   32.53330       75000\n",
              "1        2     Fort Portal     UGA   0.67100   30.27500       42670\n",
              "2        3         Potenza     ITA  40.64200   15.79900       69060\n",
              "3        4      Campobasso     ITA  41.56300   14.65600       50762\n",
              "4        5           Aosta     ITA  45.73700    7.31500       34062\n",
              "...    ...             ...     ...       ...        ...         ...\n",
              "1244  1245  Rio de Janeiro     BRA -22.92502  -43.22502    11748000\n",
              "1245  1246       Sao Paulo     BRA -23.55868  -46.62502    18845000\n",
              "1246  1247          Sydney     AUS -33.92001  151.18518     4630000\n",
              "1247  1248       Singapore     SGP   1.29303  103.85582     5183700\n",
              "1248  1249       Hong Kong     CHN  22.30498  114.18501     7206000\n",
              "\n",
              "[1249 rows x 6 columns]"
            ]
          },
          "execution_count": 8,
          "metadata": {},
          "output_type": "execute_result"
        }
      ],
      "source": [
        "%%sql\n",
        "\n",
        "SELECT * FROM 'https://open.gishub.org/data/duckdb/cities.csv';"
      ],
      "id": "jk3NYFiqTeS1"
    },
    {
      "cell_type": "code",
      "execution_count": null,
      "metadata": {
        "id": "f5vu692GTeS1"
      },
      "outputs": [],
      "source": [
        "%%sql\n",
        "\n",
        "SELECT * FROM 'https://open.gishub.org/data/duckdb/countries.csv';"
      ],
      "id": "f5vu692GTeS1"
    },
    {
      "cell_type": "markdown",
      "metadata": {
        "id": "hj_NqO8MTeS1"
      },
      "source": [
        "## Create Table\n",
        "\n",
        "Create a table named `cities` from the `cities.csv` file."
      ],
      "id": "hj_NqO8MTeS1"
    },
    {
      "cell_type": "code",
      "execution_count": null,
      "metadata": {
        "id": "nm2WGJ9bTeS1"
      },
      "outputs": [],
      "source": [
        "%%sql\n",
        "\n",
        "CREATE TABLE cities AS SELECT * FROM 'https://open.gishub.org/data/duckdb/cities.csv';"
      ],
      "id": "nm2WGJ9bTeS1"
    },
    {
      "cell_type": "markdown",
      "metadata": {
        "id": "gJWfKmtdTeS1"
      },
      "source": [
        "Create a table named `countries` from the `countries.csv` file."
      ],
      "id": "gJWfKmtdTeS1"
    },
    {
      "cell_type": "code",
      "execution_count": null,
      "metadata": {
        "id": "-nFTQfLMTeS1"
      },
      "outputs": [],
      "source": [
        "%%sql\n",
        "\n",
        "CREATE TABLE countries AS SELECT * FROM 'https://open.gishub.org/data/duckdb/countries.csv';"
      ],
      "id": "-nFTQfLMTeS1"
    },
    {
      "cell_type": "markdown",
      "metadata": {
        "id": "WiuG1hhJTeS1"
      },
      "source": [
        "Display the table content in the database."
      ],
      "id": "WiuG1hhJTeS1"
    },
    {
      "cell_type": "code",
      "execution_count": null,
      "metadata": {
        "id": "9934D3ayTeS1"
      },
      "outputs": [],
      "source": [
        "%%sql\n",
        "\n",
        "FROM cities;"
      ],
      "id": "9934D3ayTeS1"
    },
    {
      "cell_type": "code",
      "execution_count": null,
      "metadata": {
        "id": "094hi9yFTeS1"
      },
      "outputs": [],
      "source": [
        "%%sql\n",
        "\n",
        "FROM countries;"
      ],
      "id": "094hi9yFTeS1"
    },
    {
      "cell_type": "markdown",
      "metadata": {
        "id": "uY5rd6nUTeS1"
      },
      "source": [
        "## The SQL SELECT statement\n",
        "\n",
        "The `SELECT` statement is used to select data from a database. Use either `SELECT *` to select all columns, or `SELECT column1, column2, ...` to select specific columns.\n",
        "\n",
        "`SELECT * FROM cities` is the same as `FROM cities`."
      ],
      "id": "uY5rd6nUTeS1"
    },
    {
      "cell_type": "code",
      "execution_count": null,
      "metadata": {
        "scrolled": true,
        "tags": [
          "hide-output"
        ],
        "id": "ElyHidqrTeS2"
      },
      "outputs": [],
      "source": [
        "%%sql\n",
        "\n",
        "SELECT * FROM cities;"
      ],
      "id": "ElyHidqrTeS2"
    },
    {
      "cell_type": "markdown",
      "metadata": {
        "id": "ZjHwKq7WTeS2"
      },
      "source": [
        "To limit the number of rows returned, use the `LIMIT` keyword. For example, `SELECT * FROM cities LIMIT 10` will return only the first 10 rows."
      ],
      "id": "ZjHwKq7WTeS2"
    },
    {
      "cell_type": "code",
      "execution_count": null,
      "metadata": {
        "scrolled": false,
        "id": "DYfxnT5gTeS2"
      },
      "outputs": [],
      "source": [
        "%%sql\n",
        "\n",
        "SELECT * FROM cities LIMIT 10;"
      ],
      "id": "DYfxnT5gTeS2"
    },
    {
      "cell_type": "markdown",
      "metadata": {
        "id": "OPQQI247TeS2"
      },
      "source": [
        "Select a subset of columns from the `cities` table and display the first 10 rows."
      ],
      "id": "OPQQI247TeS2"
    },
    {
      "cell_type": "code",
      "execution_count": null,
      "metadata": {
        "scrolled": false,
        "id": "sHS3cdXDTeS2"
      },
      "outputs": [],
      "source": [
        "%%sql\n",
        "\n",
        "SELECT name, country FROM cities LIMIT 10;"
      ],
      "id": "sHS3cdXDTeS2"
    },
    {
      "cell_type": "markdown",
      "metadata": {
        "id": "GrHNGvfsTeS2"
      },
      "source": [
        "To select distinct values, use the `DISTINCT` keyword. For example, `SELECT DISTINCT country FROM cities` will return only the distinct values of the `country` column."
      ],
      "id": "GrHNGvfsTeS2"
    },
    {
      "cell_type": "code",
      "execution_count": null,
      "metadata": {
        "id": "vZvCDz8aTeS2"
      },
      "outputs": [],
      "source": [
        "%%sql\n",
        "\n",
        "SELECT DISTINCT country FROM cities LIMIT 10;"
      ],
      "id": "vZvCDz8aTeS2"
    },
    {
      "cell_type": "markdown",
      "metadata": {
        "id": "zLF2xtsrTeS2"
      },
      "source": [
        "To count the number of rows returned, use the `COUNT(*)` function. For example, `SELECT COUNT(*) FROM cities` will return the number of rows in the `cities` table."
      ],
      "id": "zLF2xtsrTeS2"
    },
    {
      "cell_type": "code",
      "execution_count": null,
      "metadata": {
        "id": "mOs-D5LcTeS2"
      },
      "outputs": [],
      "source": [
        "%%sql\n",
        "\n",
        "SELECT COUNT(*) FROM cities;"
      ],
      "id": "mOs-D5LcTeS2"
    },
    {
      "cell_type": "markdown",
      "metadata": {
        "id": "aV5OSVyYTeS2"
      },
      "source": [
        "To count the number of distinct values, use the `COUNT(DISTINCT column)` function. For example, `SELECT COUNT(DISTINCT country) FROM cities` will return the number of distinct values in the `country` column."
      ],
      "id": "aV5OSVyYTeS2"
    },
    {
      "cell_type": "code",
      "execution_count": null,
      "metadata": {
        "id": "lx_kWDKSTeS2"
      },
      "outputs": [],
      "source": [
        "%%sql\n",
        "\n",
        "SELECT COUNT(DISTINCT country) FROM cities;"
      ],
      "id": "lx_kWDKSTeS2"
    },
    {
      "cell_type": "markdown",
      "metadata": {
        "id": "sQSw_1zMTeS2"
      },
      "source": [
        "To calculate the maximum value, use the `MAX(column)` function. For example, `SELECT MAX(population) FROM cities` will return the maximum value in the `population` column."
      ],
      "id": "sQSw_1zMTeS2"
    },
    {
      "cell_type": "code",
      "execution_count": null,
      "metadata": {
        "id": "F0WJSzOETeS2"
      },
      "outputs": [],
      "source": [
        "%%sql\n",
        "\n",
        "SELECT MAX(population) FROM cities;"
      ],
      "id": "F0WJSzOETeS2"
    },
    {
      "cell_type": "markdown",
      "metadata": {
        "id": "3ImJR-2wTeS5"
      },
      "source": [
        "To calculate the total value, use the `SUM(column)` function. For example, `SELECT SUM(population) FROM cities` will return the total value in the `population` column."
      ],
      "id": "3ImJR-2wTeS5"
    },
    {
      "cell_type": "code",
      "execution_count": null,
      "metadata": {
        "id": "NC6-6TkxTeS5"
      },
      "outputs": [],
      "source": [
        "%%sql\n",
        "\n",
        "SELECT SUM(population) FROM cities;"
      ],
      "id": "NC6-6TkxTeS5"
    },
    {
      "cell_type": "markdown",
      "metadata": {
        "id": "rA-uCLhXTeS5"
      },
      "source": [
        "To calculate the average value, use the `AVG(column)` function. For example, `SELECT AVG(population) FROM cities` will return the average value in the `population` column."
      ],
      "id": "rA-uCLhXTeS5"
    },
    {
      "cell_type": "code",
      "execution_count": null,
      "metadata": {
        "id": "T72nMxSGTeS5"
      },
      "outputs": [],
      "source": [
        "%%sql\n",
        "\n",
        "SELECT AVG(population) FROM cities;"
      ],
      "id": "T72nMxSGTeS5"
    },
    {
      "cell_type": "markdown",
      "metadata": {
        "id": "8BPNAK1ITeS5"
      },
      "source": [
        "To order the results, use the `ORDER BY column` clause. For example, `SELECT * FROM cities ORDER BY country` will return the rows ordered by the `country` column alphabetically."
      ],
      "id": "8BPNAK1ITeS5"
    },
    {
      "cell_type": "code",
      "execution_count": null,
      "metadata": {
        "id": "hR4ego68TeS5"
      },
      "outputs": [],
      "source": [
        "%%sql\n",
        "\n",
        "SELECT * FROM cities ORDER BY country LIMIT 10;"
      ],
      "id": "hR4ego68TeS5"
    },
    {
      "cell_type": "markdown",
      "metadata": {
        "id": "SC_K2FDVTeS5"
      },
      "source": [
        "To order the results in descending order, use the `ORDER BY column DESC` clause. For example, `SELECT * FROM cities ORDER BY country ASC, population DESC` will return the rows ordered by the `country` column alphabetical order and then by the `population` column in descending order."
      ],
      "id": "SC_K2FDVTeS5"
    },
    {
      "cell_type": "code",
      "execution_count": null,
      "metadata": {
        "id": "2U53nX5UTeS5"
      },
      "outputs": [],
      "source": [
        "%%sql\n",
        "\n",
        "SELECT * FROM cities ORDER BY country ASC, population DESC LIMIT 10;"
      ],
      "id": "2U53nX5UTeS5"
    },
    {
      "cell_type": "markdown",
      "metadata": {
        "id": "yVBINkO6TeS5"
      },
      "source": [
        "## The WHERE Clause\n",
        "\n",
        "The `WHERE` clause is used to filter records. The `WHERE` clause is used to extract only those records that fulfill a specified condition."
      ],
      "id": "yVBINkO6TeS5"
    },
    {
      "cell_type": "code",
      "execution_count": null,
      "metadata": {
        "scrolled": true,
        "tags": [
          "hide-output"
        ],
        "id": "N_Hdz4bOTeS5"
      },
      "outputs": [],
      "source": [
        "%%sql\n",
        "\n",
        "SELECT * FROM cities WHERE country='USA'"
      ],
      "id": "N_Hdz4bOTeS5"
    },
    {
      "cell_type": "markdown",
      "metadata": {
        "id": "0Td6xP2ITeS5"
      },
      "source": [
        "You can use boolean operators such as `AND`, `OR`, `NOT` to filter records. For example, `SELECT * FROM cities WHERE country='USA' OR country='CAN'` will return the rows where the `country` column is either `USA` or `CAN`."
      ],
      "id": "0Td6xP2ITeS5"
    },
    {
      "cell_type": "code",
      "execution_count": null,
      "metadata": {
        "scrolled": false,
        "tags": [
          "hide-output"
        ],
        "id": "xU05UhfMTeS6"
      },
      "outputs": [],
      "source": [
        "%%sql\n",
        "\n",
        "SELECT * FROM cities WHERE country='USA' OR country='CAN';"
      ],
      "id": "xU05UhfMTeS6"
    },
    {
      "cell_type": "markdown",
      "metadata": {
        "id": "5MZPyObTTeS6"
      },
      "source": [
        "To select US cities with a population greater than 1 million, use the following query: `SELECT * FROM cities WHERE country='USA' AND population > 1000000`."
      ],
      "id": "5MZPyObTTeS6"
    },
    {
      "cell_type": "code",
      "execution_count": null,
      "metadata": {
        "tags": [
          "hide-output"
        ],
        "id": "knm0w2zLTeS6"
      },
      "outputs": [],
      "source": [
        "%%sql\n",
        "\n",
        "SELECT * FROM cities WHERE country='USA' AND population>1000000;"
      ],
      "id": "knm0w2zLTeS6"
    },
    {
      "cell_type": "markdown",
      "metadata": {
        "id": "bksN8DZMTeS6"
      },
      "source": [
        "To select cities with the country name starting with the letter `U`, use the following query: `SELECT * FROM cities WHERE country LIKE 'U%'`."
      ],
      "id": "bksN8DZMTeS6"
    },
    {
      "cell_type": "code",
      "execution_count": null,
      "metadata": {
        "scrolled": false,
        "tags": [
          "hide-output"
        ],
        "id": "tuh9g1kdTeS6"
      },
      "outputs": [],
      "source": [
        "%%sql\n",
        "\n",
        "SELECT * FROM cities WHERE country LIKE 'U%';"
      ],
      "id": "tuh9g1kdTeS6"
    },
    {
      "cell_type": "markdown",
      "metadata": {
        "id": "TsuXlUWlTeS6"
      },
      "source": [
        "To select cities with the country name ending with the letter `A`, use the following query: `SELECT * FROM cities WHERE country LIKE '%A'`."
      ],
      "id": "TsuXlUWlTeS6"
    },
    {
      "cell_type": "code",
      "execution_count": null,
      "metadata": {
        "tags": [
          "hide-output"
        ],
        "id": "KFFhqvvgTeS6"
      },
      "outputs": [],
      "source": [
        "%%sql\n",
        "\n",
        "SELECT * FROM cities WHERE country LIKE '%A';"
      ],
      "id": "KFFhqvvgTeS6"
    },
    {
      "cell_type": "markdown",
      "metadata": {
        "id": "N5L7lABDTeS6"
      },
      "source": [
        "To select cities with the country name containing the letter `S` in the middle, use the following query: `SELECT * FROM cities WHERE country LIKE '_S_'`."
      ],
      "id": "N5L7lABDTeS6"
    },
    {
      "cell_type": "code",
      "execution_count": null,
      "metadata": {
        "tags": [
          "hide-output"
        ],
        "id": "0XBf2CAYTeS6"
      },
      "outputs": [],
      "source": [
        "%%sql\n",
        "\n",
        "SELECT * FROM cities WHERE country LIKE '_S_';"
      ],
      "id": "0XBf2CAYTeS6"
    },
    {
      "cell_type": "markdown",
      "metadata": {
        "id": "ZajlQ3sPTeS6"
      },
      "source": [
        "To select cities from a list of countries, use the `IN` operator. For example, `SELECT * FROM cities WHERE country IN ('USA', 'CAN')` will return the rows where the `country` column is either `USA` or `CAN`."
      ],
      "id": "ZajlQ3sPTeS6"
    },
    {
      "cell_type": "code",
      "execution_count": null,
      "metadata": {
        "tags": [
          "hide-output"
        ],
        "id": "i94pqDHRTeS6"
      },
      "outputs": [],
      "source": [
        "%%sql\n",
        "\n",
        "SELECT * FROM cities WHERE country IN ('USA', 'CAN');"
      ],
      "id": "i94pqDHRTeS6"
    },
    {
      "cell_type": "markdown",
      "metadata": {
        "id": "zCIBk88STeS6"
      },
      "source": [
        "To select cities with a population between 1 and 10 million, use the following query: `SELECT * FROM cities WHERE population BETWEEN 1000000 AND 10000000`."
      ],
      "id": "zCIBk88STeS6"
    },
    {
      "cell_type": "code",
      "execution_count": null,
      "metadata": {
        "scrolled": false,
        "tags": [
          "hide-output"
        ],
        "id": "T3Tb_EHXTeS6"
      },
      "outputs": [],
      "source": [
        "%%sql\n",
        "\n",
        "SELECT * FROM cities WHERE population BETWEEN 1000000 AND 10000000;"
      ],
      "id": "T3Tb_EHXTeS6"
    },
    {
      "cell_type": "markdown",
      "metadata": {
        "id": "AdStHv0GTeS6"
      },
      "source": [
        "## SQL Joins\n",
        "\n",
        "Reference: https://www.w3schools.com/sql/sql_join.asp\n",
        "\n",
        "Here are the different types of the JOINs in SQL:\n",
        "\n",
        "- `(INNER) JOIN`: Returns records that have matching values in both tables\n",
        "- `LEFT (OUTER) JOIN`: Returns all records from the left table, and the matched records from the right table\n",
        "- `RIGHT (OUTER) JOIN`: Returns all records from the right table, and the matched records from the left table\n",
        "- `FULL (OUTER) JOIN`: Returns all records when there is a match in either left or right table\n",
        "\n",
        "![](https://i.imgur.com/mITYzuS.png)\n",
        "\n",
        "We have two sample tables: `cities` and `countries`.\n",
        "\n",
        "There are 1,249 cities in the `cities` table and 243 countries in the `countries` table."
      ],
      "id": "AdStHv0GTeS6"
    },
    {
      "cell_type": "code",
      "execution_count": null,
      "metadata": {
        "id": "Fw49M53ETeS6"
      },
      "outputs": [],
      "source": [
        "%%sql\n",
        "\n",
        "SELECT COUNT(*) FROM cities;"
      ],
      "id": "Fw49M53ETeS6"
    },
    {
      "cell_type": "code",
      "execution_count": null,
      "metadata": {
        "id": "sdSSuI7CTeS6"
      },
      "outputs": [],
      "source": [
        "%%sql\n",
        "\n",
        "SELECT * FROM cities LIMIT 10;"
      ],
      "id": "sdSSuI7CTeS6"
    },
    {
      "cell_type": "code",
      "execution_count": null,
      "metadata": {
        "id": "y_EwJ2fpTeS6"
      },
      "outputs": [],
      "source": [
        "%%sql\n",
        "\n",
        "SELECT COUNT(*) FROM countries;"
      ],
      "id": "y_EwJ2fpTeS6"
    },
    {
      "cell_type": "code",
      "execution_count": null,
      "metadata": {
        "id": "JfeFKKlXTeS6"
      },
      "outputs": [],
      "source": [
        "%%sql\n",
        "\n",
        "SELECT * FROM countries LIMIT 10;"
      ],
      "id": "JfeFKKlXTeS6"
    },
    {
      "cell_type": "markdown",
      "metadata": {
        "id": "BKrlQAvPTeS6"
      },
      "source": [
        "### SQL Inner Join\n",
        "\n",
        "The `INNER JOIN` keyword selects records that have matching values in both tables. In the example, we join the `cities` table with the `countries` table using the `country` column in the `cities` table and the `Alpha3_code` column in the `countries` table. The result contains 1,244 rows, indicating that there are 5 cities that do not have a matching country."
      ],
      "id": "BKrlQAvPTeS6"
    },
    {
      "cell_type": "code",
      "execution_count": null,
      "metadata": {
        "tags": [
          "hide-output"
        ],
        "id": "f6sfbxg9TeS6"
      },
      "outputs": [],
      "source": [
        "%%sql\n",
        "\n",
        "SELECT * FROM cities INNER JOIN countries ON cities.country = countries.\"Alpha3_code\";"
      ],
      "id": "f6sfbxg9TeS6"
    },
    {
      "cell_type": "markdown",
      "metadata": {
        "id": "vwJ0fp7oTeS6"
      },
      "source": [
        "Only select the `city` and `country` columns from the `cities` table and the `Country` column from the `countries` table."
      ],
      "id": "vwJ0fp7oTeS6"
    },
    {
      "cell_type": "code",
      "execution_count": null,
      "metadata": {
        "tags": [
          "hide-output"
        ],
        "id": "3X7r8wvCTeS6"
      },
      "outputs": [],
      "source": [
        "%%sql\n",
        "\n",
        "SELECT name, cities.\"country\", countries.\"Country\" FROM cities INNER JOIN countries ON cities.country = countries.\"Alpha3_code\";"
      ],
      "id": "3X7r8wvCTeS6"
    },
    {
      "cell_type": "markdown",
      "metadata": {
        "id": "NCOFvbgWTeS6"
      },
      "source": [
        "### SQL Left Join\n",
        "\n",
        "The `LEFT JOIN` keyword returns all records from the left table (`cities`), and the matched records from the right table (`countries`). The result contains 1,249 rows, the same number of rows as the `cities` table."
      ],
      "id": "NCOFvbgWTeS6"
    },
    {
      "cell_type": "code",
      "execution_count": null,
      "metadata": {
        "tags": [
          "hide-output"
        ],
        "id": "E92EIB8mTeS7"
      },
      "outputs": [],
      "source": [
        "%%sql\n",
        "\n",
        "SELECT * FROM cities LEFT JOIN countries ON cities.country = countries.\"Alpha3_code\";"
      ],
      "id": "E92EIB8mTeS7"
    },
    {
      "cell_type": "markdown",
      "metadata": {
        "id": "vwG8k4dfTeS7"
      },
      "source": [
        "### SQL Right Join\n",
        "\n",
        "The `RIGHT JOIN` keyword returns all records from the right table (`countries`), and the matched records from the left table (`cities`). The result contains 1,291 rows."
      ],
      "id": "vwG8k4dfTeS7"
    },
    {
      "cell_type": "code",
      "execution_count": null,
      "metadata": {
        "tags": [
          "hide-output"
        ],
        "id": "z3KUmcb6TeS7"
      },
      "outputs": [],
      "source": [
        "%%sql\n",
        "\n",
        "SELECT * FROM cities RIGHT JOIN countries ON cities.country = countries.\"Alpha3_code\";"
      ],
      "id": "z3KUmcb6TeS7"
    },
    {
      "cell_type": "markdown",
      "metadata": {
        "id": "REdNW2UpTeS7"
      },
      "source": [
        "### SQL Full Join\n",
        "\n",
        "The `FULL JOIN` keyword returns all records when there is a match in either left or right table. The result contains 1,296 rows."
      ],
      "id": "REdNW2UpTeS7"
    },
    {
      "cell_type": "code",
      "execution_count": null,
      "metadata": {
        "tags": [
          "hide-output"
        ],
        "id": "Nu6PUXLMTeS7"
      },
      "outputs": [],
      "source": [
        "%%sql\n",
        "\n",
        "SELECT * FROM cities FULL JOIN countries ON cities.country = countries.\"Alpha3_code\";"
      ],
      "id": "Nu6PUXLMTeS7"
    },
    {
      "cell_type": "markdown",
      "metadata": {
        "id": "N0b7FxN-TeS7"
      },
      "source": [
        "### SQL Union\n",
        "\n",
        "The `UNION` operator is used to combine the result-set of two or more `SELECT` statements."
      ],
      "id": "N0b7FxN-TeS7"
    },
    {
      "cell_type": "code",
      "execution_count": null,
      "metadata": {
        "tags": [
          "hide-output"
        ],
        "id": "j6mg30T4TeS7"
      },
      "outputs": [],
      "source": [
        "%%sql\n",
        "\n",
        "SELECT country FROM cities\n",
        "UNION\n",
        "SELECT \"Alpha3_code\" FROM countries;"
      ],
      "id": "j6mg30T4TeS7"
    },
    {
      "cell_type": "markdown",
      "metadata": {
        "id": "sz3G724oTeS7"
      },
      "source": [
        "## Aggregation\n",
        "\n",
        "### Group By\n",
        "\n",
        "The `GROUP BY` statement groups rows that have the same values into summary rows, like \"find the number of cities in each country\".\n",
        "\n",
        "The `GROUP BY` statement is often used with aggregate functions (`COUNT`, `MAX`, `MIN`, `SUM`, `AVG`) to group the result-set by one or more columns."
      ],
      "id": "sz3G724oTeS7"
    },
    {
      "cell_type": "code",
      "execution_count": null,
      "metadata": {
        "scrolled": true,
        "tags": [
          "hide-output"
        ],
        "id": "fqdxrNk_TeS7"
      },
      "outputs": [],
      "source": [
        "%%sql\n",
        "\n",
        "SELECT COUNT(name), country\n",
        "FROM cities\n",
        "GROUP BY country\n",
        "ORDER BY COUNT(name) DESC;"
      ],
      "id": "fqdxrNk_TeS7"
    },
    {
      "cell_type": "code",
      "execution_count": null,
      "metadata": {
        "tags": [
          "hide-output"
        ],
        "id": "OvNwPZimTeS7"
      },
      "outputs": [],
      "source": [
        "%%sql\n",
        "\n",
        "SELECT countries.\"Country\", COUNT(name)\n",
        "FROM cities\n",
        "LEFT JOIN countries ON cities.country = countries.\"Alpha3_code\"\n",
        "GROUP BY countries.\"Country\"\n",
        "ORDER BY COUNT(name) DESC;"
      ],
      "id": "OvNwPZimTeS7"
    },
    {
      "cell_type": "markdown",
      "metadata": {
        "id": "DMPRkbzfTeS7"
      },
      "source": [
        "### Having\n",
        "\n",
        "The `HAVING` clause was added to SQL because the `WHERE` keyword could not be used with aggregate functions.\n",
        "\n",
        "For example, to select countries with more than 40 cities:"
      ],
      "id": "DMPRkbzfTeS7"
    },
    {
      "cell_type": "code",
      "execution_count": null,
      "metadata": {
        "id": "wdq8Qa4nTeS7"
      },
      "outputs": [],
      "source": [
        "%%sql\n",
        "\n",
        "SELECT COUNT(name), country\n",
        "FROM cities\n",
        "GROUP BY country\n",
        "HAVING COUNT(name) > 40\n",
        "ORDER BY COUNT(name) DESC;"
      ],
      "id": "wdq8Qa4nTeS7"
    },
    {
      "cell_type": "code",
      "execution_count": null,
      "metadata": {
        "id": "ptemF8bzTeS7"
      },
      "outputs": [],
      "source": [
        "%%sql\n",
        "\n",
        "SELECT countries.\"Country\", COUNT(name)\n",
        "FROM cities\n",
        "LEFT JOIN countries ON cities.country = countries.\"Alpha3_code\"\n",
        "GROUP BY countries.\"Country\"\n",
        "HAVING COUNT(name) > 40\n",
        "ORDER BY COUNT(name) DESC;"
      ],
      "id": "ptemF8bzTeS7"
    },
    {
      "cell_type": "markdown",
      "metadata": {
        "id": "rTezVmb9TeS7"
      },
      "source": [
        "## Conditional statements\n",
        "\n",
        "The `CASE` statement goes through conditions and returns a value when the first condition is met (like an `IF-THEN-ELSE` statement). So, once a condition is true, it will stop reading and return the result. If no conditions are true, it returns the value in the `ELSE` clause.\n",
        "\n",
        "For example, to divide cities into 3 groups based on their population:"
      ],
      "id": "rTezVmb9TeS7"
    },
    {
      "cell_type": "code",
      "execution_count": null,
      "metadata": {
        "scrolled": false,
        "tags": [
          "hide-output"
        ],
        "id": "KhIWSyC1TeS7"
      },
      "outputs": [],
      "source": [
        "%%sql\n",
        "\n",
        "SELECT name, population,\n",
        "CASE\n",
        "    WHEN population > 10000000 THEN 'Megacity'\n",
        "    WHEN population > 1000000 THEN 'Large city'\n",
        "    ELSE 'Small city'\n",
        "END AS category\n",
        "FROM cities;"
      ],
      "id": "KhIWSyC1TeS7"
    },
    {
      "cell_type": "markdown",
      "metadata": {
        "id": "s3Qsu65DTeS7"
      },
      "source": [
        "## Saving results\n",
        "\n",
        "You can save the results of a query to a new table using the `CREATE TABLE AS` statement."
      ],
      "id": "s3Qsu65DTeS7"
    },
    {
      "cell_type": "code",
      "execution_count": null,
      "metadata": {
        "id": "3kmm6FLyTeS7"
      },
      "outputs": [],
      "source": [
        "%%sql\n",
        "\n",
        "CREATE TABLE cities2 AS SELECT * FROM cities;"
      ],
      "id": "3kmm6FLyTeS7"
    },
    {
      "cell_type": "markdown",
      "metadata": {
        "id": "KNgKx_EXTeS7"
      },
      "source": [
        "Show the new table content."
      ],
      "id": "KNgKx_EXTeS7"
    },
    {
      "cell_type": "code",
      "execution_count": null,
      "metadata": {
        "id": "b1k0l8bDTeS7"
      },
      "outputs": [],
      "source": [
        "%%sql\n",
        "\n",
        "FROM cities2;"
      ],
      "id": "b1k0l8bDTeS7"
    },
    {
      "cell_type": "markdown",
      "metadata": {
        "id": "5jOEOpfmTeS7"
      },
      "source": [
        "Use the `DROP TABLE` statement to delete the table."
      ],
      "id": "5jOEOpfmTeS7"
    },
    {
      "cell_type": "code",
      "execution_count": null,
      "metadata": {
        "id": "mjsyQ6g-TeS7"
      },
      "outputs": [],
      "source": [
        "%%sql\n",
        "\n",
        "DROP TABLE IF EXISTS cities_usa;\n",
        "CREATE TABLE cities_usa AS (SELECT * FROM cities WHERE country = 'USA');"
      ],
      "id": "mjsyQ6g-TeS7"
    },
    {
      "cell_type": "code",
      "execution_count": null,
      "metadata": {
        "id": "oeKrk39fTeS7"
      },
      "outputs": [],
      "source": [
        "%%sql\n",
        "\n",
        "FROM cities_usa;"
      ],
      "id": "oeKrk39fTeS7"
    },
    {
      "cell_type": "markdown",
      "metadata": {
        "id": "XtXqwBvBTeS7"
      },
      "source": [
        "Use the `INSERT INTO` statement to insert rows into a table."
      ],
      "id": "XtXqwBvBTeS7"
    },
    {
      "cell_type": "code",
      "execution_count": null,
      "metadata": {
        "id": "bsurhIa_TeS8"
      },
      "outputs": [],
      "source": [
        "%%sql\n",
        "\n",
        "INSERT INTO cities_usa (SELECT * FROM cities WHERE country = 'CAN');"
      ],
      "id": "bsurhIa_TeS8"
    },
    {
      "cell_type": "markdown",
      "metadata": {
        "id": "aZ9yDr8STeS8"
      },
      "source": [
        "## SQL Comments\n",
        "\n",
        "Comments are used to explain sections of SQL statements, or to prevent execution of SQL statements.\n",
        "\n",
        "\n",
        "### Single line comMents\n",
        "\n",
        "Single line comments start with --.\n",
        "\n",
        "Any text between -- and the end of the line will be ignored (will not be executed).\n",
        "\n",
        "The following example uses a single-line comment as an explanation:"
      ],
      "id": "aZ9yDr8STeS8"
    },
    {
      "cell_type": "code",
      "execution_count": null,
      "metadata": {
        "id": "CUYQHvSBTeS8"
      },
      "outputs": [],
      "source": [
        "%%sql\n",
        "\n",
        "SELECT * FROM cities LIMIT 10 -- This is a comment;"
      ],
      "id": "CUYQHvSBTeS8"
    },
    {
      "cell_type": "markdown",
      "metadata": {
        "id": "gEnIfpvsTeS8"
      },
      "source": [
        "### Multi-line comments\n",
        "\n",
        "Multi-line comments start with `/*` and end with `*/`.\n",
        "\n",
        "Any text between `/*` and `*/` will be ignored.\n",
        "\n",
        "The following example uses a multi-line comment as an explanation:"
      ],
      "id": "gEnIfpvsTeS8"
    },
    {
      "cell_type": "code",
      "execution_count": null,
      "metadata": {
        "id": "l1hO-cBvTeS8"
      },
      "outputs": [],
      "source": [
        "%%sql\n",
        "\n",
        "SELECT COUNT(name), country\n",
        "FROM cities\n",
        "/*\n",
        " * Adding Group by\n",
        " * Adding Order by\n",
        " */\n",
        "GROUP BY country\n",
        "ORDER BY COUNT(name) DESC\n",
        "LIMIT 10;"
      ],
      "id": "l1hO-cBvTeS8"
    }
  ],
  "metadata": {
    "celltoolbar": "Tags",
    "hide_input": false,
    "kernelspec": {
      "display_name": "Python 3",
      "language": "python",
      "name": "python3"
    },
    "language_info": {
      "codemirror_mode": {
        "name": "ipython",
        "version": 3
      },
      "file_extension": ".py",
      "mimetype": "text/x-python",
      "name": "python",
      "nbconvert_exporter": "python",
      "pygments_lexer": "ipython3",
      "version": "3.9.18"
    },
    "toc": {
      "base_numbering": 1,
      "nav_menu": {},
      "number_sections": true,
      "sideBar": true,
      "skip_h1_title": false,
      "title_cell": "Table of Contents",
      "title_sidebar": "Contents",
      "toc_cell": false,
      "toc_position": {},
      "toc_section_display": true,
      "toc_window_display": false
    },
    "varInspector": {
      "cols": {
        "lenName": 16,
        "lenType": 16,
        "lenVar": 40
      },
      "kernels_config": {
        "python": {
          "delete_cmd_postfix": "",
          "delete_cmd_prefix": "del ",
          "library": "var_list.py",
          "varRefreshCmd": "print(var_dic_list())"
        },
        "r": {
          "delete_cmd_postfix": ") ",
          "delete_cmd_prefix": "rm(",
          "library": "var_list.r",
          "varRefreshCmd": "cat(var_dic_list()) "
        }
      },
      "types_to_exclude": [
        "module",
        "function",
        "builtin_function_or_method",
        "instance",
        "_Feature"
      ],
      "window_display": false
    },
    "colab": {
      "provenance": []
    }
  },
  "nbformat": 4,
  "nbformat_minor": 5
}